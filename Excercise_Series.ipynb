{
 "cells": [
  {
   "cell_type": "code",
   "execution_count": 1,
   "metadata": {},
   "outputs": [],
   "source": [
    "import numpy as np\n",
    "import pandas as pd\n",
    "from matplotlib import pyplot as plt\n",
    "\n",
    "% matplotlib inline"
   ]
  },
  {
   "cell_type": "markdown",
   "metadata": {},
   "source": [
    "# Lets represent the following data using series\n",
    "Shop1 stock\n",
    "\n",
    "Type Quantity\n",
    "\n",
    "Orange 10\n",
    "\n",
    "Apples 25\n",
    "\n",
    "Bananas 30\n",
    "\n",
    "shop2 stock\n",
    "\n",
    "Type Quantity\n",
    "\n",
    "Orange 20\n",
    "\n",
    "Bananas 10\n",
    "\n",
    "plums 90\n",
    "\n",
    "** Always use meaningful names for the variables **"
   ]
  },
  {
   "cell_type": "code",
   "execution_count": null,
   "metadata": {},
   "outputs": [],
   "source": []
  },
  {
   "cell_type": "code",
   "execution_count": 2,
   "metadata": {},
   "outputs": [
    {
     "data": {
      "text/plain": [
       "Orange     10\n",
       "Apples     25\n",
       "Bananas    30\n",
       "dtype: int64"
      ]
     },
     "execution_count": 2,
     "metadata": {},
     "output_type": "execute_result"
    }
   ],
   "source": [
    "shop1 = pd.Series([10,25,30],index = ['Orange',\"Apples\",\"Bananas\"])\n",
    "shop1"
   ]
  },
  {
   "cell_type": "code",
   "execution_count": 11,
   "metadata": {},
   "outputs": [
    {
     "data": {
      "text/plain": [
       "<matplotlib.axes._subplots.AxesSubplot at 0x2e4d1ec72e8>"
      ]
     },
     "execution_count": 11,
     "metadata": {},
     "output_type": "execute_result"
    },
    {
     "data": {
      "image/png": "[encoded data removed]",
      "text/plain": [
       "<matplotlib.figure.Figure at 0x2e4d1eafc88>"
      ]
     },
     "metadata": {},
     "output_type": "display_data"
    }
   ],
   "source": [
    "# You can plot your series as well\n",
    "shop1.plot(kind='bar')"
   ]
  },
  {
   "cell_type": "code",
   "execution_count": 3,
   "metadata": {},
   "outputs": [
    {
     "data": {
      "text/plain": [
       "Orange     20\n",
       "Bananas    10\n",
       "plums      90\n",
       "dtype: int64"
      ]
     },
     "execution_count": 3,
     "metadata": {},
     "output_type": "execute_result"
    }
   ],
   "source": [
    "#TODO: Similarly create the series for shop2\n",
    "shop2 = pd.Series([20,10,90],index = ['Orange',\"Bananas\",\"plums\"])\n",
    "shop2"
   ]
  },
  {
   "cell_type": "code",
   "execution_count": 4,
   "metadata": {},
   "outputs": [
    {
     "data": {
      "text/plain": [
       "Apples      NaN\n",
       "Bananas    40.0\n",
       "Orange     30.0\n",
       "plums       NaN\n",
       "dtype: float64"
      ]
     },
     "execution_count": 4,
     "metadata": {},
     "output_type": "execute_result"
    }
   ],
   "source": [
    "# TODO: Get the stock from both shops you can add the series; What did you observe\n",
    "total_shop_stock = shop1 + shop2\n",
    "total_shop_stock"
   ]
  },
  {
   "cell_type": "code",
   "execution_count": 9,
   "metadata": {},
   "outputs": [
    {
     "data": {
      "text/plain": [
       "Apples     25.0\n",
       "Bananas    40.0\n",
       "Orange     30.0\n",
       "plums      90.0\n",
       "dtype: float64"
      ]
     },
     "execution_count": 9,
     "metadata": {},
     "output_type": "execute_result"
    }
   ],
   "source": [
    "# Use add function on Series to replace to add the series gracefully by replacing missing values with nans\n",
    "shop1.add(shop2,fill_value=0)"
   ]
  },
  {
   "cell_type": "markdown",
   "metadata": {},
   "source": [
    "There are lot more functions available for series \n",
    "take a look at https://pandas.pydata.org/pandas-docs/stable/reference/api/pandas.Series.html \n",
    "\n",
    "Useful functions to look at\n",
    "\n",
    "1. head\n",
    "2. tail\n",
    "3. idxmax\n",
    "4. idxmin\n",
    "5. bfill\n",
    "6. plot\n",
    "7. items"
   ]
  },
  {
   "cell_type": "code",
   "execution_count": null,
   "metadata": {},
   "outputs": [],
   "source": []
  }
 ],
 "metadata": {
  "kernelspec": {
   "display_name": "Python 3",
   "language": "python",
   "name": "python3"
  },
  "language_info": {
   "codemirror_mode": {
    "name": "ipython",
    "version": 3
   },
   "file_extension": ".py",
   "mimetype": "text/x-python",
   "name": "python",
   "nbconvert_exporter": "python",
   "pygments_lexer": "ipython3",
   "version": "3.6.3"
  }
 },
 "nbformat": 4,
 "nbformat_minor": 2
}
