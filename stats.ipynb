{
  "nbformat": 4,
  "nbformat_minor": 0,
  "metadata": {
    "colab": {
      "name": "stats.ipynb",
      "version": "0.3.2",
      "provenance": [],
      "include_colab_link": true
    },
    "kernelspec": {
      "name": "python3",
      "display_name": "Python 3"
    }
  },
  "cells": [
    {
      "cell_type": "markdown",
      "metadata": {
        "id": "view-in-github",
        "colab_type": "text"
      },
      "source": [
        "<a href=\"https://colab.research.google.com/github/HarshaVardhanBabu/TutorialMaterial/blob/master/stats.ipynb\" target=\"_parent\"><img src=\"https://colab.research.google.com/assets/colab-badge.svg\" alt=\"Open In Colab\"/></a>"
      ]
    },
    {
      "cell_type": "code",
      "metadata": {
        "id": "wda7KwNyT6tf",
        "colab_type": "code",
        "colab": {}
      },
      "source": [
        "import numpy as np\n",
        "import pandas as pd\n",
        "import seaborn as sns\n",
        "from scipy import stats\n",
        "from matplotlib import pyplot as plt"
      ],
      "execution_count": 0,
      "outputs": []
    },
    {
      "cell_type": "code",
      "metadata": {
        "id": "Rsl3VGekTljQ",
        "colab_type": "code",
        "colab": {}
      },
      "source": [
        "data = \"\"\"4.5 4.7 5.0 5.0 5.3 5.5 5.5 5.7 5.7 5.7\n",
        "6.0 6.0 6.0 6.0 6.3 6.3 6.3 6.5 6.5 6.5\n",
        "6.7 6.7 6.7 6.7 7.0 7.0 7.0 7.0 7.3 7.3\n",
        "7.3 7.3 7.5 7.5 7.5 7.5 7.7 7.7 7.7 7.7\n",
        "8.0 8.0 8.0 8.0 8.3 8.3 8.3 8.5 8.5 8.5\n",
        "8.5 8.7 8.7 9.0 9.0 9.0 9.3 9.3 10.0\"\"\""
      ],
      "execution_count": 0,
      "outputs": []
    },
    {
      "cell_type": "code",
      "metadata": {
        "id": "ErW1F1uyTteu",
        "colab_type": "code",
        "colab": {}
      },
      "source": [
        "data = data.split()"
      ],
      "execution_count": 0,
      "outputs": []
    },
    {
      "cell_type": "code",
      "metadata": {
        "id": "YzZeL8vTT2aF",
        "colab_type": "code",
        "colab": {}
      },
      "source": [
        "data = np.array(data)"
      ],
      "execution_count": 0,
      "outputs": []
    },
    {
      "cell_type": "code",
      "metadata": {
        "id": "cj_dzqSnT3Ym",
        "colab_type": "code",
        "colab": {}
      },
      "source": [
        "sleeps = pd.Series(data,dtype=np.float)"
      ],
      "execution_count": 0,
      "outputs": []
    },
    {
      "cell_type": "code",
      "metadata": {
        "id": "yaDKQD0iUuRS",
        "colab_type": "code",
        "colab": {
          "base_uri": "https://localhost:8080/",
          "height": 170
        },
        "outputId": "91539d1e-e455-47e5-f818-9be5ec7a7a88"
      },
      "source": [
        "sleeps.describe()"
      ],
      "execution_count": 11,
      "outputs": [
        {
          "output_type": "execute_result",
          "data": {
            "text/plain": [
              "count    59.000000\n",
              "mean      7.181356\n",
              "std       1.282438\n",
              "min       4.500000\n",
              "25%       6.300000\n",
              "50%       7.300000\n",
              "75%       8.150000\n",
              "max      10.000000\n",
              "dtype: float64"
            ]
          },
          "metadata": {
            "tags": []
          },
          "execution_count": 11
        }
      ]
    },
    {
      "cell_type": "code",
      "metadata": {
        "id": "OuXgzZXqUvEu",
        "colab_type": "code",
        "colab": {
          "base_uri": "https://localhost:8080/",
          "height": 286
        },
        "outputId": "b9b7615f-712d-4d53-a519-3eb32f426b4d"
      },
      "source": [
        "sleeps.hist(bins=10)"
      ],
      "execution_count": 15,
      "outputs": [
        {
          "output_type": "execute_result",
          "data": {
            "text/plain": [
              "<matplotlib.axes._subplots.AxesSubplot at 0x7fe9436aceb8>"
            ]
          },
          "metadata": {
            "tags": []
          },
          "execution_count": 15
        },
        {
          "output_type": "display_data",
          "data": {
            "image/png": "[encoded data removed]",
            "text/plain": [
              "<Figure size 432x288 with 1 Axes>"
            ]
          },
          "metadata": {
            "tags": []
          }
        }
      ]
    },
    {
      "cell_type": "code",
      "metadata": {
        "id": "hsYhmR3YV3zo",
        "colab_type": "code",
        "colab": {
          "base_uri": "https://localhost:8080/",
          "height": 286
        },
        "outputId": "ba6997b1-012f-4ba2-f8f6-4cd992a14126"
      },
      "source": [
        "sleeps.plot.box()"
      ],
      "execution_count": 17,
      "outputs": [
        {
          "output_type": "execute_result",
          "data": {
            "text/plain": [
              "<matplotlib.axes._subplots.AxesSubplot at 0x7fe9435b77b8>"
            ]
          },
          "metadata": {
            "tags": []
          },
          "execution_count": 17
        },
        {
          "output_type": "display_data",
          "data": {
            "image/png": "[encoded data removed]",
            "text/plain": [
              "<Figure size 432x288 with 1 Axes>"
            ]
          },
          "metadata": {
            "tags": []
          }
        }
      ]
    },
    {
      "cell_type": "code",
      "metadata": {
        "id": "VsBk4ZdiWe2A",
        "colab_type": "code",
        "colab": {
          "base_uri": "https://localhost:8080/",
          "height": 286
        },
        "outputId": "0d6b5c06-a98d-4e86-fc8b-7e60fed6813a"
      },
      "source": [
        "sleeps.plot(kind='kde')"
      ],
      "execution_count": 18,
      "outputs": [
        {
          "output_type": "execute_result",
          "data": {
            "text/plain": [
              "<matplotlib.axes._subplots.AxesSubplot at 0x7fe9435b2eb8>"
            ]
          },
          "metadata": {
            "tags": []
          },
          "execution_count": 18
        },
        {
          "output_type": "display_data",
          "data": {
            "image/png": "[encoded data removed]",
            "text/plain": [
              "<Figure size 432x288 with 1 Axes>"
            ]
          },
          "metadata": {
            "tags": []
          }
        }
      ]
    },
    {
      "cell_type": "code",
      "metadata": {
        "id": "hYVJ8CGSZIF_",
        "colab_type": "code",
        "colab": {}
      },
      "source": [
        "data = np.array([3,5,7,7,8])"
      ],
      "execution_count": 0,
      "outputs": []
    },
    {
      "cell_type": "code",
      "metadata": {
        "id": "dpL0WE3VbEpg",
        "colab_type": "code",
        "colab": {
          "base_uri": "https://localhost:8080/",
          "height": 34
        },
        "outputId": "48eb8552-862f-427d-8d7f-029afe2a0b76"
      },
      "source": [
        "np.var(data),np.var(data,ddof=1)"
      ],
      "execution_count": 23,
      "outputs": [
        {
          "output_type": "execute_result",
          "data": {
            "text/plain": [
              "(3.2, 4.0)"
            ]
          },
          "metadata": {
            "tags": []
          },
          "execution_count": 23
        }
      ]
    },
    {
      "cell_type": "code",
      "metadata": {
        "id": "WsjXxdZbbMqH",
        "colab_type": "code",
        "colab": {
          "base_uri": "https://localhost:8080/",
          "height": 34
        },
        "outputId": "dd93d20a-4084-4d85-8fe7-250a460d9655"
      },
      "source": [
        "np.std(data),np.std(data,ddof=1)"
      ],
      "execution_count": 24,
      "outputs": [
        {
          "output_type": "execute_result",
          "data": {
            "text/plain": [
              "(1.7888543819998317, 2.0)"
            ]
          },
          "metadata": {
            "tags": []
          },
          "execution_count": 24
        }
      ]
    },
    {
      "cell_type": "code",
      "metadata": {
        "id": "xtPqK4gPcQUx",
        "colab_type": "code",
        "colab": {}
      },
      "source": [
        "z = (data - np.mean(data))/np.std(data,ddof=1)"
      ],
      "execution_count": 0,
      "outputs": []
    },
    {
      "cell_type": "code",
      "metadata": {
        "id": "6nQEV3UNgpEa",
        "colab_type": "code",
        "colab": {
          "base_uri": "https://localhost:8080/",
          "height": 34
        },
        "outputId": "e69b152f-1437-4d36-c643-8811d8d232ed"
      },
      "source": [
        "z"
      ],
      "execution_count": 26,
      "outputs": [
        {
          "output_type": "execute_result",
          "data": {
            "text/plain": [
              "array([-1.5, -0.5,  0.5,  0.5,  1. ])"
            ]
          },
          "metadata": {
            "tags": []
          },
          "execution_count": 26
        }
      ]
    },
    {
      "cell_type": "code",
      "metadata": {
        "id": "Q_QqhoU4gp3V",
        "colab_type": "code",
        "colab": {}
      },
      "source": [
        "x = np.arange(10)\n",
        "y = 5*x + np.random.randn(10)"
      ],
      "execution_count": 0,
      "outputs": []
    },
    {
      "cell_type": "code",
      "metadata": {
        "id": "03pPVgSCiTIu",
        "colab_type": "code",
        "colab": {}
      },
      "source": [
        "from matplotlib import pyplot as plt"
      ],
      "execution_count": 0,
      "outputs": []
    },
    {
      "cell_type": "code",
      "metadata": {
        "id": "1LZfiY-1jJlx",
        "colab_type": "code",
        "colab": {
          "base_uri": "https://localhost:8080/",
          "height": 286
        },
        "outputId": "dcc21361-32a1-4e92-96f7-5747b645b088"
      },
      "source": [
        "plt.plot(x,y,'o')"
      ],
      "execution_count": 31,
      "outputs": [
        {
          "output_type": "execute_result",
          "data": {
            "text/plain": [
              "[<matplotlib.lines.Line2D at 0x7fe93ad966d8>]"
            ]
          },
          "metadata": {
            "tags": []
          },
          "execution_count": 31
        },
        {
          "output_type": "display_data",
          "data": {
            "image/png": "[encoded data removed]",
            "text/plain": [
              "<Figure size 432x288 with 1 Axes>"
            ]
          },
          "metadata": {
            "tags": []
          }
        }
      ]
    },
    {
      "cell_type": "code",
      "metadata": {
        "id": "TK-e_3aIjK-V",
        "colab_type": "code",
        "colab": {}
      },
      "source": [
        "data = np.vstack([x,y])"
      ],
      "execution_count": 0,
      "outputs": []
    },
    {
      "cell_type": "code",
      "metadata": {
        "id": "rZx39ifGjhtx",
        "colab_type": "code",
        "colab": {
          "base_uri": "https://localhost:8080/",
          "height": 34
        },
        "outputId": "7b878862-3082-4419-de4f-8e2571b81e7d"
      },
      "source": [
        "data.shape"
      ],
      "execution_count": 33,
      "outputs": [
        {
          "output_type": "execute_result",
          "data": {
            "text/plain": [
              "(2, 10)"
            ]
          },
          "metadata": {
            "tags": []
          },
          "execution_count": 33
        }
      ]
    },
    {
      "cell_type": "code",
      "metadata": {
        "id": "9yHewLkyjiqL",
        "colab_type": "code",
        "colab": {
          "base_uri": "https://localhost:8080/",
          "height": 51
        },
        "outputId": "cf9e7840-5194-42ad-d379-673f793ba3a2"
      },
      "source": [
        "np.cov(data)"
      ],
      "execution_count": 34,
      "outputs": [
        {
          "output_type": "execute_result",
          "data": {
            "text/plain": [
              "array([[  9.16666667,  45.50237827],\n",
              "       [ 45.50237827, 226.20434017]])"
            ]
          },
          "metadata": {
            "tags": []
          },
          "execution_count": 34
        }
      ]
    },
    {
      "cell_type": "code",
      "metadata": {
        "id": "A2cxe1yijlkx",
        "colab_type": "code",
        "colab": {
          "base_uri": "https://localhost:8080/",
          "height": 51
        },
        "outputId": "8e0a5be4-59b7-425c-a48f-3da8ce9287bb"
      },
      "source": [
        "np.corrcoef(data)"
      ],
      "execution_count": 35,
      "outputs": [
        {
          "output_type": "execute_result",
          "data": {
            "text/plain": [
              "array([[1.        , 0.99925864],\n",
              "       [0.99925864, 1.        ]])"
            ]
          },
          "metadata": {
            "tags": []
          },
          "execution_count": 35
        }
      ]
    },
    {
      "cell_type": "code",
      "metadata": {
        "id": "fCfTBInRj2T9",
        "colab_type": "code",
        "colab": {}
      },
      "source": [
        "normal_sample = np.random.randn(10000)"
      ],
      "execution_count": 0,
      "outputs": []
    },
    {
      "cell_type": "code",
      "metadata": {
        "id": "5R3cPBxGJcP7",
        "colab_type": "code",
        "colab": {}
      },
      "source": [
        "def getSampleMeans(x,sample_size,n_samples):\n",
        "  sample =[]\n",
        "  for i in range(n_samples):\n",
        "    sample.append(np.random.choice(x,sample_size))\n",
        "  sample = np.array(sample)\n",
        "  sample_means = np.mean(sample,axis=1)\n",
        "  return sample_means\n"
      ],
      "execution_count": 0,
      "outputs": []
    },
    {
      "cell_type": "code",
      "metadata": {
        "id": "kXwRLvPEKSeS",
        "colab_type": "code",
        "colab": {}
      },
      "source": [
        "sample_100 = getSampleMeans(normal_sample,100,10000)"
      ],
      "execution_count": 0,
      "outputs": []
    },
    {
      "cell_type": "code",
      "metadata": {
        "id": "smC1qQvlKXrS",
        "colab_type": "code",
        "colab": {
          "base_uri": "https://localhost:8080/",
          "height": 34
        },
        "outputId": "114ae235-88d3-4db5-8d6e-22f58ecc9640"
      },
      "source": [
        "sample_100.mean(),normal_sample.mean()"
      ],
      "execution_count": 30,
      "outputs": [
        {
          "output_type": "execute_result",
          "data": {
            "text/plain": [
              "(-0.002337462694685137, -0.002015633087993884)"
            ]
          },
          "metadata": {
            "tags": []
          },
          "execution_count": 30
        }
      ]
    },
    {
      "cell_type": "code",
      "metadata": {
        "id": "YOhfuUO8LIIH",
        "colab_type": "code",
        "colab": {
          "base_uri": "https://localhost:8080/",
          "height": 354
        },
        "outputId": "179e3b23-7a2f-41a5-8686-aaaa43cd2b57"
      },
      "source": [
        "plt.hist(sample_100)"
      ],
      "execution_count": 28,
      "outputs": [
        {
          "output_type": "execute_result",
          "data": {
            "text/plain": [
              "(array([  4.,  13.,  65., 157., 226., 240., 176.,  89.,  24.,   6.]),\n",
              " array([-0.34198524, -0.27644984, -0.21091444, -0.14537905, -0.07984365,\n",
              "        -0.01430825,  0.05122715,  0.11676255,  0.18229795,  0.24783334,\n",
              "         0.31336874]),\n",
              " <a list of 10 Patch objects>)"
            ]
          },
          "metadata": {
            "tags": []
          },
          "execution_count": 28
        },
        {
          "output_type": "display_data",
          "data": {
            "image/png": "[encoded data removed]",
            "text/plain": [
              "<Figure size 432x288 with 1 Axes>"
            ]
          },
          "metadata": {
            "tags": []
          }
        }
      ]
    },
    {
      "cell_type": "code",
      "metadata": {
        "id": "dZjdpzJ1xEF_",
        "colab_type": "code",
        "colab": {
          "base_uri": "https://localhost:8080/",
          "height": 813
        },
        "outputId": "84df0584-f1ee-4e2b-b392-20357acbef58"
      },
      "source": [
        "fig,ax = plt.subplots(1,1)\n",
        "ax.hist(normal_sample,bins=100,)"
      ],
      "execution_count": 41,
      "outputs": [
        {
          "output_type": "execute_result",
          "data": {
            "text/plain": [
              "(array([  1.,   0.,   2.,   0.,   2.,   1.,   1.,   3.,   4.,   6.,   4.,\n",
              "         10.,   7.,   7.,   7.,   8.,  16.,  17.,  24.,  26.,  24.,  28.,\n",
              "         39.,  54.,  43.,  65.,  66.,  82.,  80.,  86., 112., 105., 122.,\n",
              "        112., 152., 152., 164., 182., 192., 196., 197., 215., 275., 265.,\n",
              "        277., 288., 266., 295., 307., 275., 269., 279., 309., 316., 286.,\n",
              "        262., 281., 247., 233., 216., 227., 223., 178., 191., 189., 149.,\n",
              "        129., 144., 112.,  98.,  83., 105.,  72.,  60.,  60.,  63.,  64.,\n",
              "         39.,  31.,  31.,  35.,  25.,  28.,  18.,  14.,   8.,  13.,   9.,\n",
              "          9.,   5.,   6.,   5.,   3.,   3.,   1.,   6.,   2.,   1.,   0.,\n",
              "          1.]),\n",
              " array([-3.65848306, -3.58587414, -3.51326522, -3.44065629, -3.36804737,\n",
              "        -3.29543845, -3.22282953, -3.1502206 , -3.07761168, -3.00500276,\n",
              "        -2.93239384, -2.85978491, -2.78717599, -2.71456707, -2.64195815,\n",
              "        -2.56934922, -2.4967403 , -2.42413138, -2.35152246, -2.27891353,\n",
              "        -2.20630461, -2.13369569, -2.06108677, -1.98847784, -1.91586892,\n",
              "        -1.84326   , -1.77065108, -1.69804215, -1.62543323, -1.55282431,\n",
              "        -1.48021538, -1.40760646, -1.33499754, -1.26238862, -1.18977969,\n",
              "        -1.11717077, -1.04456185, -0.97195293, -0.899344  , -0.82673508,\n",
              "        -0.75412616, -0.68151724, -0.60890831, -0.53629939, -0.46369047,\n",
              "        -0.39108155, -0.31847262, -0.2458637 , -0.17325478, -0.10064586,\n",
              "        -0.02803693,  0.04457199,  0.11718091,  0.18978983,  0.26239876,\n",
              "         0.33500768,  0.4076166 ,  0.48022553,  0.55283445,  0.62544337,\n",
              "         0.69805229,  0.77066122,  0.84327014,  0.91587906,  0.98848798,\n",
              "         1.06109691,  1.13370583,  1.20631475,  1.27892367,  1.3515326 ,\n",
              "         1.42414152,  1.49675044,  1.56935936,  1.64196829,  1.71457721,\n",
              "         1.78718613,  1.85979505,  1.93240398,  2.0050129 ,  2.07762182,\n",
              "         2.15023075,  2.22283967,  2.29544859,  2.36805751,  2.44066644,\n",
              "         2.51327536,  2.58588428,  2.6584932 ,  2.73110213,  2.80371105,\n",
              "         2.87631997,  2.94892889,  3.02153782,  3.09414674,  3.16675566,\n",
              "         3.23936458,  3.31197351,  3.38458243,  3.45719135,  3.52980027,\n",
              "         3.6024092 ]),\n",
              " <a list of 100 Patch objects>)"
            ]
          },
          "metadata": {
            "tags": []
          },
          "execution_count": 41
        },
        {
          "output_type": "display_data",
          "data": {
            "image/png": "[encoded data removed]",
            "text/plain": [
              "<Figure size 432x288 with 1 Axes>"
            ]
          },
          "metadata": {
            "tags": []
          }
        }
      ]
    },
    {
      "cell_type": "code",
      "metadata": {
        "id": "EW7DQpbVxILI",
        "colab_type": "code",
        "colab": {
          "base_uri": "https://localhost:8080/",
          "height": 286
        },
        "outputId": "fc3e6d10-caa5-42a1-9b3a-bb7fc800133f"
      },
      "source": [
        "sns.distplot(normal_sample)"
      ],
      "execution_count": 44,
      "outputs": [
        {
          "output_type": "execute_result",
          "data": {
            "text/plain": [
              "<matplotlib.axes._subplots.AxesSubplot at 0x7fe939435b00>"
            ]
          },
          "metadata": {
            "tags": []
          },
          "execution_count": 44
        },
        {
          "output_type": "display_data",
          "data": {
            "image/png": "[encoded data removed]",
            "text/plain": [
              "<Figure size 432x288 with 1 Axes>"
            ]
          },
          "metadata": {
            "tags": []
          }
        }
      ]
    },
    {
      "cell_type": "code",
      "metadata": {
        "id": "NMMSVs33yM8P",
        "colab_type": "code",
        "colab": {}
      },
      "source": [
        ""
      ],
      "execution_count": 0,
      "outputs": []
    },
    {
      "cell_type": "code",
      "metadata": {
        "id": "PIO4vjm95kJt",
        "colab_type": "code",
        "colab": {
          "base_uri": "https://localhost:8080/",
          "height": 34
        },
        "outputId": "d53d38ca-83ac-48f9-8aea-ef663d47a2e6"
      },
      "source": [
        "stats.norm().cdf(1.37)# P(Z<=z) # area to the left of the z in the distrubution"
      ],
      "execution_count": 52,
      "outputs": [
        {
          "output_type": "execute_result",
          "data": {
            "text/plain": [
              "0.914656549178033"
            ]
          },
          "metadata": {
            "tags": []
          },
          "execution_count": 52
        }
      ]
    },
    {
      "cell_type": "code",
      "metadata": {
        "id": "2_DLlwXo5oJa",
        "colab_type": "code",
        "colab": {
          "base_uri": "https://localhost:8080/",
          "height": 34
        },
        "outputId": "97710165-c300-4582-8169-9ee7367392cd"
      },
      "source": [
        "stats.norm().ppf(0.5) # P(Z<=z) = a finds z given a"
      ],
      "execution_count": 51,
      "outputs": [
        {
          "output_type": "execute_result",
          "data": {
            "text/plain": [
              "0.0"
            ]
          },
          "metadata": {
            "tags": []
          },
          "execution_count": 51
        }
      ]
    },
    {
      "cell_type": "code",
      "metadata": {
        "id": "0mn-Aym064-3",
        "colab_type": "code",
        "colab": {
          "base_uri": "https://localhost:8080/",
          "height": 34
        },
        "outputId": "2c4f6395-ecc6-45e3-bad6-302698fa15ae"
      },
      "source": [
        "stats.norm().cdf(1.6) - stats.norm().cdf(-.155)"
      ],
      "execution_count": 55,
      "outputs": [
        {
          "output_type": "execute_result",
          "data": {
            "text/plain": [
              "0.5067900496476889"
            ]
          },
          "metadata": {
            "tags": []
          },
          "execution_count": 55
        }
      ]
    },
    {
      "cell_type": "code",
      "metadata": {
        "id": "cVDDrWCr70zC",
        "colab_type": "code",
        "colab": {
          "base_uri": "https://localhost:8080/",
          "height": 34
        },
        "outputId": "6fcd1afc-843a-4b7f-d598-6c07d7c60a41"
      },
      "source": [
        "stats.norm().ppf(1-0.025)"
      ],
      "execution_count": 56,
      "outputs": [
        {
          "output_type": "execute_result",
          "data": {
            "text/plain": [
              "1.959963984540054"
            ]
          },
          "metadata": {
            "tags": []
          },
          "execution_count": 56
        }
      ]
    },
    {
      "cell_type": "code",
      "metadata": {
        "id": "GCesCenf8XTh",
        "colab_type": "code",
        "colab": {}
      },
      "source": [
        "madison_fire = pd.Series(np.array(\"\"\"425 389 380 421 438 331 368 417 403 416 385 315\n",
        "427 417 386 386 378 300 321 286 269 225 268 317\n",
        "287 256 334 342 269 226 291 280 221 283 302 308\n",
        "296 266 238 286 317 276 254 278 247 336 296 259\n",
        "270 302 281 228 317 312 327 288 395 240 264 246\n",
        "294 254 222 285 254 264 277 266 228 347 322 232\n",
        "365 356 261 293 354 236 285 303 275 403 268 250\n",
        "279 400 370 399 438 287 363 350 278 278 234 266\n",
        "319 276 291 352 313 262 289 273 317 328 292 279\n",
        "289 312 334 294 297 304 240 303 255 305 252 286\n",
        "297 353 350 276 333 285 317 296 276 247 339 328\n",
        "267 305 291 269 386 264 299 261 284 302 342 304\n",
        "336 291 294 323 320 289 339 292 373 410 257 406\n",
        "374 268\"\"\".split(),dtype=np.float))\n"
      ],
      "execution_count": 0,
      "outputs": []
    },
    {
      "cell_type": "code",
      "metadata": {
        "id": "wu1LDXNn-zUD",
        "colab_type": "code",
        "colab": {
          "base_uri": "https://localhost:8080/",
          "height": 170
        },
        "outputId": "7832742c-ed26-4064-b9fa-600b7f6ef82b"
      },
      "source": [
        "madison_fire.describe()"
      ],
      "execution_count": 6,
      "outputs": [
        {
          "output_type": "execute_result",
          "data": {
            "text/plain": [
              "count    158.000000\n",
              "mean     307.765823\n",
              "std       51.851720\n",
              "min      221.000000\n",
              "25%      269.250000\n",
              "50%      295.000000\n",
              "75%      336.000000\n",
              "max      438.000000\n",
              "dtype: float64"
            ]
          },
          "metadata": {
            "tags": []
          },
          "execution_count": 6
        }
      ]
    },
    {
      "cell_type": "code",
      "metadata": {
        "id": "hLnHtcgQ_Al0",
        "colab_type": "code",
        "colab": {
          "base_uri": "https://localhost:8080/",
          "height": 34
        },
        "outputId": "5fd14c64-3588-42cd-d32f-d12816fd0804"
      },
      "source": [
        "stats.norm.interval(0.95,loc=307.765823,scale=52.851720/np.sqrt(158))"
      ],
      "execution_count": 13,
      "outputs": [
        {
          "output_type": "execute_result",
          "data": {
            "text/plain": [
              "(299.5248465505244, 316.00679944947564)"
            ]
          },
          "metadata": {
            "tags": []
          },
          "execution_count": 13
        }
      ]
    },
    {
      "cell_type": "code",
      "metadata": {
        "id": "_r8arE-w_pYf",
        "colab_type": "code",
        "colab": {
          "base_uri": "https://localhost:8080/",
          "height": 34
        },
        "outputId": "d1f38f5e-a409-4722-95fe-07fdc99ba6a0"
      },
      "source": [
        ""
      ],
      "execution_count": 15,
      "outputs": [
        {
          "output_type": "execute_result",
          "data": {
            "text/plain": [
              "51.85171995888382"
            ]
          },
          "metadata": {
            "tags": []
          },
          "execution_count": 15
        }
      ]
    },
    {
      "cell_type": "code",
      "metadata": {
        "id": "Z2689y9mAD3b",
        "colab_type": "code",
        "colab": {}
      },
      "source": [
        "# #the automated teller machine transaction times, suppose that, from\n",
        "# the measurements of a random sample of 38 transaction times, the sample\n",
        "# mean and standard deviation are found to be 261 and 22 seconds, respectively\n",
        "# Test the null hypothesis versus using a 2.5% level\n",
        "# of significance and state whether or not the claim m \u000b 270 is substantiated."
      ],
      "execution_count": 0,
      "outputs": []
    },
    {
      "cell_type": "code",
      "metadata": {
        "id": "6p9WP0HHO5qz",
        "colab_type": "code",
        "colab": {}
      },
      "source": [
        "loc = 261\n",
        "scale = 22/np.sqrt(38)\n",
        "mu = 270"
      ],
      "execution_count": 0,
      "outputs": []
    },
    {
      "cell_type": "code",
      "metadata": {
        "id": "JLQ1lGJcPAWT",
        "colab_type": "code",
        "colab": {}
      },
      "source": [
        "z = (loc - mu)/scale"
      ],
      "execution_count": 0,
      "outputs": []
    },
    {
      "cell_type": "code",
      "metadata": {
        "id": "hjwBlkA2QbHV",
        "colab_type": "code",
        "colab": {
          "base_uri": "https://localhost:8080/",
          "height": 34
        },
        "outputId": "0de268fc-8d5f-4553-f7af-23e15664bf3d"
      },
      "source": [
        "z"
      ],
      "execution_count": 36,
      "outputs": [
        {
          "output_type": "execute_result",
          "data": {
            "text/plain": [
              "-2.5218057284873083"
            ]
          },
          "metadata": {
            "tags": []
          },
          "execution_count": 36
        }
      ]
    },
    {
      "cell_type": "code",
      "metadata": {
        "id": "_SstztOYQdp6",
        "colab_type": "code",
        "colab": {}
      },
      "source": [
        "c = 0.025\n",
        "zc = stats.norm.ppf(c)"
      ],
      "execution_count": 0,
      "outputs": []
    },
    {
      "cell_type": "code",
      "metadata": {
        "id": "LHiqvfpnRfE0",
        "colab_type": "code",
        "colab": {
          "base_uri": "https://localhost:8080/",
          "height": 34
        },
        "outputId": "ede02600-9666-4448-cef2-b436022a6a43"
      },
      "source": [
        "zc"
      ],
      "execution_count": 38,
      "outputs": [
        {
          "output_type": "execute_result",
          "data": {
            "text/plain": [
              "-1.9599639845400545"
            ]
          },
          "metadata": {
            "tags": []
          },
          "execution_count": 38
        }
      ]
    },
    {
      "cell_type": "code",
      "metadata": {
        "id": "jsVedlEzRfnv",
        "colab_type": "code",
        "colab": {
          "base_uri": "https://localhost:8080/",
          "height": 286
        },
        "outputId": "106f918f-5495-471e-f5cc-6add6a2620c4"
      },
      "source": [
        "fig,ax = plt.subplots(1,1)\n",
        "ax.hist(normal_sample,bins=100)\n",
        "ax.axvline(z)\n",
        "ax.axvline(zc,marker=\"*\",color='r')"
      ],
      "execution_count": 50,
      "outputs": [
        {
          "output_type": "execute_result",
          "data": {
            "text/plain": [
              "<matplotlib.lines.Line2D at 0x7fdc270f1128>"
            ]
          },
          "metadata": {
            "tags": []
          },
          "execution_count": 50
        },
        {
          "output_type": "display_data",
          "data": {
            "image/png": "[encoded data removed]",
            "text/plain": [
              "<Figure size 432x288 with 1 Axes>"
            ]
          },
          "metadata": {
            "tags": []
          }
        }
      ]
    },
    {
      "cell_type": "code",
      "metadata": {
        "id": "ILB5czCobhmU",
        "colab_type": "code",
        "colab": {
          "base_uri": "https://localhost:8080/",
          "height": 34
        },
        "outputId": "7163a083-ea3a-400b-9336-d3cdfed78c1b"
      },
      "source": [
        "stats.norm.cdf(z)"
      ],
      "execution_count": 51,
      "outputs": [
        {
          "output_type": "execute_result",
          "data": {
            "text/plain": [
              "0.0058377084397736485"
            ]
          },
          "metadata": {
            "tags": []
          },
          "execution_count": 51
        }
      ]
    },
    {
      "cell_type": "code",
      "metadata": {
        "id": "rckqALVLc4s9",
        "colab_type": "code",
        "colab": {}
      },
      "source": [
        "# A brochure inviting subscriptions for a new diet program states that the participants are expected to lose over 22 pounds in five weeks. Suppose that, from\n",
        "# the data of the five-week weight losses of 56 participants, the sample mean and\n",
        "# standard deviation are found to be 23.5 and 10.2 pounds, respectively. Could\n",
        "# the statement in the brochure be substantiated on the basis of these findings?\n",
        "# Test with a \u0001 alpha = .05. Also calculate the P–value and interpret the result."
      ],
      "execution_count": 0,
      "outputs": []
    },
    {
      "cell_type": "code",
      "metadata": {
        "id": "0Ymlpj-6dL8n",
        "colab_type": "code",
        "colab": {}
      },
      "source": [
        "n = 56\n",
        "xbar = 23.5\n",
        "s = 10.2\n",
        "scale = s/np.sqrt(n)\n",
        "loc = xbar\n",
        "z = (loc - 22)/scale"
      ],
      "execution_count": 0,
      "outputs": []
    },
    {
      "cell_type": "code",
      "metadata": {
        "id": "V6tACX0VegI2",
        "colab_type": "code",
        "colab": {
          "base_uri": "https://localhost:8080/",
          "height": 34
        },
        "outputId": "abeab27c-a9db-4d8d-ba72-639b4f07853d"
      },
      "source": [
        "z"
      ],
      "execution_count": 54,
      "outputs": [
        {
          "output_type": "execute_result",
          "data": {
            "text/plain": [
              "1.100487466698218"
            ]
          },
          "metadata": {
            "tags": []
          },
          "execution_count": 54
        }
      ]
    },
    {
      "cell_type": "code",
      "metadata": {
        "id": "_I3w8E-qeg0g",
        "colab_type": "code",
        "colab": {}
      },
      "source": [
        "zc = stats.norm.ppf(1-0.05)"
      ],
      "execution_count": 0,
      "outputs": []
    },
    {
      "cell_type": "code",
      "metadata": {
        "id": "7EO6tyCyfIPi",
        "colab_type": "code",
        "colab": {
          "base_uri": "https://localhost:8080/",
          "height": 34
        },
        "outputId": "f416ee30-38bc-41f8-dcd0-50e43ffb9910"
      },
      "source": [
        "zc"
      ],
      "execution_count": 56,
      "outputs": [
        {
          "output_type": "execute_result",
          "data": {
            "text/plain": [
              "1.6448536269514722"
            ]
          },
          "metadata": {
            "tags": []
          },
          "execution_count": 56
        }
      ]
    },
    {
      "cell_type": "code",
      "metadata": {
        "id": "ux4uOwAcfI5L",
        "colab_type": "code",
        "colab": {
          "base_uri": "https://localhost:8080/",
          "height": 34
        },
        "outputId": "5e0c6c23-374d-47f6-93db-482585852f43"
      },
      "source": [
        "1-stats.norm.cdf(z)"
      ],
      "execution_count": 58,
      "outputs": [
        {
          "output_type": "execute_result",
          "data": {
            "text/plain": [
              "0.13555989373583288"
            ]
          },
          "metadata": {
            "tags": []
          },
          "execution_count": 58
        }
      ]
    },
    {
      "cell_type": "code",
      "metadata": {
        "id": "nZzRH-ivfYsB",
        "colab_type": "code",
        "colab": {
          "base_uri": "https://localhost:8080/",
          "height": 34
        },
        "outputId": "7e258306-ca4c-4544-cf1f-9e436b20fca9"
      },
      "source": [
        "stats.t.cdf(0.5,df=19)"
      ],
      "execution_count": 60,
      "outputs": [
        {
          "output_type": "execute_result",
          "data": {
            "text/plain": [
              "0.6885917543567792"
            ]
          },
          "metadata": {
            "tags": []
          },
          "execution_count": 60
        }
      ]
    },
    {
      "cell_type": "code",
      "metadata": {
        "id": "DMoEN-cIivrh",
        "colab_type": "code",
        "colab": {}
      },
      "source": [
        "## Students T test"
      ],
      "execution_count": 0,
      "outputs": []
    },
    {
      "cell_type": "code",
      "metadata": {
        "id": "7kmKwIiOjFJ2",
        "colab_type": "code",
        "colab": {}
      },
      "source": [
        "data = np.array(\"\"\"175 190 205 193 184\n",
        "207 204 193 196 180\"\"\".split(),dtype=float)"
      ],
      "execution_count": 0,
      "outputs": []
    },
    {
      "cell_type": "code",
      "metadata": {
        "id": "9IxnkfI_jMEP",
        "colab_type": "code",
        "colab": {}
      },
      "source": [
        "xbar,s = data.mean(),data.std(ddof=1)"
      ],
      "execution_count": 0,
      "outputs": []
    },
    {
      "cell_type": "code",
      "metadata": {
        "id": "PQV0PdDBjMsr",
        "colab_type": "code",
        "colab": {}
      },
      "source": [
        "n = data.shape[0]"
      ],
      "execution_count": 0,
      "outputs": []
    },
    {
      "cell_type": "code",
      "metadata": {
        "id": "DMpOKD_pjbi0",
        "colab_type": "code",
        "colab": {
          "base_uri": "https://localhost:8080/",
          "height": 34
        },
        "outputId": "8b7fc260-d3d2-4673-82f3-c2770f9186db"
      },
      "source": [
        "n"
      ],
      "execution_count": 67,
      "outputs": [
        {
          "output_type": "execute_result",
          "data": {
            "text/plain": [
              "10"
            ]
          },
          "metadata": {
            "tags": []
          },
          "execution_count": 67
        }
      ]
    },
    {
      "cell_type": "code",
      "metadata": {
        "id": "E6cMQ6yOjjUD",
        "colab_type": "code",
        "colab": {}
      },
      "source": [
        "t = (xbar - 200)/(s/np.sqrt(n))"
      ],
      "execution_count": 0,
      "outputs": []
    },
    {
      "cell_type": "code",
      "metadata": {
        "id": "6g72i1z9j_3g",
        "colab_type": "code",
        "colab": {
          "base_uri": "https://localhost:8080/",
          "height": 34
        },
        "outputId": "3a67d239-be4e-4929-8bd0-230f160030ce"
      },
      "source": [
        "t"
      ],
      "execution_count": 75,
      "outputs": [
        {
          "output_type": "execute_result",
          "data": {
            "text/plain": [
              "-2.135087139095554"
            ]
          },
          "metadata": {
            "tags": []
          },
          "execution_count": 75
        }
      ]
    },
    {
      "cell_type": "code",
      "metadata": {
        "id": "q-cA5MANkAXV",
        "colab_type": "code",
        "colab": {}
      },
      "source": [
        "tc = stats.t.ppf(0.05,df=n-1)"
      ],
      "execution_count": 0,
      "outputs": []
    },
    {
      "cell_type": "code",
      "metadata": {
        "id": "-uEunNBTkPS_",
        "colab_type": "code",
        "colab": {
          "base_uri": "https://localhost:8080/",
          "height": 34
        },
        "outputId": "9578d67f-ab92-4f5a-c0c9-0bb2c876a195"
      },
      "source": [
        "tc"
      ],
      "execution_count": 71,
      "outputs": [
        {
          "output_type": "execute_result",
          "data": {
            "text/plain": [
              "-1.8331129326536337"
            ]
          },
          "metadata": {
            "tags": []
          },
          "execution_count": 71
        }
      ]
    },
    {
      "cell_type": "code",
      "metadata": {
        "id": "xWKhnP9tkbPB",
        "colab_type": "code",
        "colab": {}
      },
      "source": [
        "pval = stats.t.cdf(t,df=n-1)"
      ],
      "execution_count": 0,
      "outputs": []
    },
    {
      "cell_type": "code",
      "metadata": {
        "id": "ZIVVcebIkplw",
        "colab_type": "code",
        "colab": {
          "base_uri": "https://localhost:8080/",
          "height": 34
        },
        "outputId": "6805a67b-fbf5-4540-c333-bcc97f76347b"
      },
      "source": [
        "pval"
      ],
      "execution_count": 80,
      "outputs": [
        {
          "output_type": "execute_result",
          "data": {
            "text/plain": [
              "0.030755340818943256"
            ]
          },
          "metadata": {
            "tags": []
          },
          "execution_count": 80
        }
      ]
    },
    {
      "cell_type": "code",
      "metadata": {
        "id": "1_ptNno9kqDp",
        "colab_type": "code",
        "colab": {}
      },
      "source": [
        "data = \"\"\"3 9\n",
        "3 5\n",
        "4 12\n",
        "5 9\n",
        "6 14\n",
        "6 16\n",
        "7 22\n",
        "8 18\n",
        "8 24\n",
        "9 22\"\"\".split()"
      ],
      "execution_count": 0,
      "outputs": []
    },
    {
      "cell_type": "code",
      "metadata": {
        "id": "osLgt7M9PTYr",
        "colab_type": "code",
        "colab": {}
      },
      "source": [
        "data = [(x,y) for x,y in zip(data[::2],data[1::2])]"
      ],
      "execution_count": 0,
      "outputs": []
    },
    {
      "cell_type": "code",
      "metadata": {
        "id": "6ET4Evo8PURp",
        "colab_type": "code",
        "colab": {}
      },
      "source": [
        "data = np.array(data,dtype=np.float)"
      ],
      "execution_count": 0,
      "outputs": []
    },
    {
      "cell_type": "code",
      "metadata": {
        "id": "8BaOa5mnQFJC",
        "colab_type": "code",
        "colab": {
          "base_uri": "https://localhost:8080/",
          "height": 187
        },
        "outputId": "b558e0a3-83e2-4038-d735-ffee464a5c5f"
      },
      "source": [
        "data"
      ],
      "execution_count": 8,
      "outputs": [
        {
          "output_type": "execute_result",
          "data": {
            "text/plain": [
              "array([[ 3.,  9.],\n",
              "       [ 3.,  5.],\n",
              "       [ 4., 12.],\n",
              "       [ 5.,  9.],\n",
              "       [ 6., 14.],\n",
              "       [ 6., 16.],\n",
              "       [ 7., 22.],\n",
              "       [ 8., 18.],\n",
              "       [ 8., 24.],\n",
              "       [ 9., 22.]])"
            ]
          },
          "metadata": {
            "tags": []
          },
          "execution_count": 8
        }
      ]
    },
    {
      "cell_type": "code",
      "metadata": {
        "id": "-0HUlymjQRPh",
        "colab_type": "code",
        "colab": {
          "base_uri": "https://localhost:8080/",
          "height": 286
        },
        "outputId": "bec8d778-ac88-4312-ff04-cf15091c7858"
      },
      "source": [
        "plt.plot(data[:,0],data[:,1],\"o\")"
      ],
      "execution_count": 11,
      "outputs": [
        {
          "output_type": "execute_result",
          "data": {
            "text/plain": [
              "[<matplotlib.lines.Line2D at 0x7f0903530c88>]"
            ]
          },
          "metadata": {
            "tags": []
          },
          "execution_count": 11
        },
        {
          "output_type": "display_data",
          "data": {
            "image/png": "[encoded data removed]",
            "text/plain": [
              "<Figure size 432x288 with 1 Axes>"
            ]
          },
          "metadata": {
            "tags": []
          }
        }
      ]
    },
    {
      "cell_type": "code",
      "metadata": {
        "id": "NBsbcOoKQeHv",
        "colab_type": "code",
        "colab": {
          "base_uri": "https://localhost:8080/",
          "height": 51
        },
        "outputId": "1de12490-653b-4f95-9ed7-0c5ba323b337"
      },
      "source": [
        "np.corrcoef(data[:,0],data[:,1])"
      ],
      "execution_count": 12,
      "outputs": [
        {
          "output_type": "execute_result",
          "data": {
            "text/plain": [
              "array([[1.        , 0.91015538],\n",
              "       [0.91015538, 1.        ]])"
            ]
          },
          "metadata": {
            "tags": []
          },
          "execution_count": 12
        }
      ]
    },
    {
      "cell_type": "code",
      "metadata": {
        "id": "L516kIKEQo1N",
        "colab_type": "code",
        "colab": {}
      },
      "source": [
        "from sklearn import preprocessing"
      ],
      "execution_count": 0,
      "outputs": []
    },
    {
      "cell_type": "code",
      "metadata": {
        "id": "jDFa6Y46TTVL",
        "colab_type": "code",
        "colab": {}
      },
      "source": [
        "X = data[:,0]\n",
        "X_scale = preprocessing.scale(X)"
      ],
      "execution_count": 0,
      "outputs": []
    },
    {
      "cell_type": "code",
      "metadata": {
        "id": "HvAsKCW-TwjD",
        "colab_type": "code",
        "colab": {
          "base_uri": "https://localhost:8080/",
          "height": 170
        },
        "outputId": "67cff602-51b1-4a9a-e41e-fb8d6669c31b"
      },
      "source": [
        "pd.Series(X).describe()"
      ],
      "execution_count": 17,
      "outputs": [
        {
          "output_type": "execute_result",
          "data": {
            "text/plain": [
              "count    10.00000\n",
              "mean      5.90000\n",
              "std       2.13177\n",
              "min       3.00000\n",
              "25%       4.25000\n",
              "50%       6.00000\n",
              "75%       7.75000\n",
              "max       9.00000\n",
              "dtype: float64"
            ]
          },
          "metadata": {
            "tags": []
          },
          "execution_count": 17
        }
      ]
    },
    {
      "cell_type": "code",
      "metadata": {
        "id": "vSdPWdgZTzXC",
        "colab_type": "code",
        "colab": {
          "base_uri": "https://localhost:8080/",
          "height": 170
        },
        "outputId": "7ef7fdd2-c0fa-4e93-8125-28acb3f40aac"
      },
      "source": [
        "pd.Series(X_scale).describe()"
      ],
      "execution_count": 18,
      "outputs": [
        {
          "output_type": "execute_result",
          "data": {
            "text/plain": [
              "count    1.000000e+01\n",
              "mean    -1.110223e-16\n",
              "std      1.054093e+00\n",
              "min     -1.433958e+00\n",
              "25%     -8.158725e-01\n",
              "50%      4.944682e-02\n",
              "75%      9.147661e-01\n",
              "max      1.532851e+00\n",
              "dtype: float64"
            ]
          },
          "metadata": {
            "tags": []
          },
          "execution_count": 18
        }
      ]
    },
    {
      "cell_type": "code",
      "metadata": {
        "id": "LYvxQuNfT-Uw",
        "colab_type": "code",
        "colab": {
          "base_uri": "https://localhost:8080/",
          "height": 34
        },
        "outputId": "20183eb7-fa1b-4503-ff20-f88b7644096d"
      },
      "source": [
        "X_scale.std(ddof=1)"
      ],
      "execution_count": 21,
      "outputs": [
        {
          "output_type": "execute_result",
          "data": {
            "text/plain": [
              "1.0540925533894598"
            ]
          },
          "metadata": {
            "tags": []
          },
          "execution_count": 21
        }
      ]
    },
    {
      "cell_type": "code",
      "metadata": {
        "id": "zxahIFS_UHOk",
        "colab_type": "code",
        "colab": {}
      },
      "source": [
        "from sklearn.linear_model import LinearRegression"
      ],
      "execution_count": 0,
      "outputs": []
    },
    {
      "cell_type": "code",
      "metadata": {
        "id": "_XIvlw3kabWm",
        "colab_type": "code",
        "colab": {
          "base_uri": "https://localhost:8080/",
          "height": 34
        },
        "outputId": "b322b8cc-81e8-4d34-ef8f-c0da10a38d2f"
      },
      "source": [
        "X.shape"
      ],
      "execution_count": 24,
      "outputs": [
        {
          "output_type": "execute_result",
          "data": {
            "text/plain": [
              "(10,)"
            ]
          },
          "metadata": {
            "tags": []
          },
          "execution_count": 24
        }
      ]
    },
    {
      "cell_type": "code",
      "metadata": {
        "id": "PpM2UevUaHjZ",
        "colab_type": "code",
        "colab": {
          "base_uri": "https://localhost:8080/",
          "height": 34
        },
        "outputId": "2911b249-1080-452b-cdf3-d34c596e489c"
      },
      "source": [
        "model = LinearRegression()\n",
        "model.fit(X.reshape(-1,1),data[:,1])"
      ],
      "execution_count": 26,
      "outputs": [
        {
          "output_type": "execute_result",
          "data": {
            "text/plain": [
              "LinearRegression(copy_X=True, fit_intercept=True, n_jobs=None, normalize=False)"
            ]
          },
          "metadata": {
            "tags": []
          },
          "execution_count": 26
        }
      ]
    },
    {
      "cell_type": "code",
      "metadata": {
        "id": "m3z4Qx6caRrp",
        "colab_type": "code",
        "colab": {}
      },
      "source": [
        "ypred = model.predict(X.reshape(-1,1))"
      ],
      "execution_count": 0,
      "outputs": []
    },
    {
      "cell_type": "code",
      "metadata": {
        "id": "jXegxg3dao5D",
        "colab_type": "code",
        "colab": {
          "base_uri": "https://localhost:8080/",
          "height": 286
        },
        "outputId": "1cdd999c-be65-4d52-ca8c-d6df0bb560a3"
      },
      "source": [
        "plt.plot(ypred,data[:,1],\"o\")"
      ],
      "execution_count": 31,
      "outputs": [
        {
          "output_type": "execute_result",
          "data": {
            "text/plain": [
              "[<matplotlib.lines.Line2D at 0x7f08fdd80a90>]"
            ]
          },
          "metadata": {
            "tags": []
          },
          "execution_count": 31
        },
        {
          "output_type": "display_data",
          "data": {
            "image/png": "[encoded data removed]",
            "text/plain": [
              "<Figure size 432x288 with 1 Axes>"
            ]
          },
          "metadata": {
            "tags": []
          }
        }
      ]
    },
    {
      "cell_type": "code",
      "metadata": {
        "id": "jM2WYU87a5Ja",
        "colab_type": "code",
        "colab": {
          "base_uri": "https://localhost:8080/",
          "height": 34
        },
        "outputId": "16c687b6-a730-4381-e749-32c627032115"
      },
      "source": [
        "model.score(X.reshape(-1,1),data[:,1])"
      ],
      "execution_count": 33,
      "outputs": [
        {
          "output_type": "execute_result",
          "data": {
            "text/plain": [
              "0.8283828208791013"
            ]
          },
          "metadata": {
            "tags": []
          },
          "execution_count": 33
        }
      ]
    },
    {
      "cell_type": "code",
      "metadata": {
        "id": "3JHYEgwpa_2P",
        "colab_type": "code",
        "colab": {
          "base_uri": "https://localhost:8080/",
          "height": 34
        },
        "outputId": "fe34ec5f-f7c0-4155-9f17-d7c636607ef4"
      },
      "source": [
        "from sklearn.datasets import load_boston\n",
        "boston = load_boston()\n",
        "print(boston.data.shape)"
      ],
      "execution_count": 1,
      "outputs": [
        {
          "output_type": "stream",
          "text": [
            "(506, 13)\n"
          ],
          "name": "stdout"
        }
      ]
    },
    {
      "cell_type": "code",
      "metadata": {
        "id": "1zjdcchPMLmb",
        "colab_type": "code",
        "colab": {}
      },
      "source": [
        "X = boston.data\n",
        "Y = boston.target"
      ],
      "execution_count": 0,
      "outputs": []
    },
    {
      "cell_type": "code",
      "metadata": {
        "id": "Y3IPRhGwMRk7",
        "colab_type": "code",
        "colab": {
          "base_uri": "https://localhost:8080/",
          "height": 34
        },
        "outputId": "a7de31e9-35ad-49a3-ca8c-4691cc5e1b35"
      },
      "source": [
        "X.shape,Y.shape"
      ],
      "execution_count": 3,
      "outputs": [
        {
          "output_type": "execute_result",
          "data": {
            "text/plain": [
              "((506, 13), (506,))"
            ]
          },
          "metadata": {
            "tags": []
          },
          "execution_count": 3
        }
      ]
    },
    {
      "cell_type": "code",
      "metadata": {
        "id": "3UqnRyeAMUa8",
        "colab_type": "code",
        "colab": {
          "base_uri": "https://localhost:8080/",
          "height": 51
        },
        "outputId": "f3d4d749-744c-4cc7-b900-c9a88f66139a"
      },
      "source": [
        "boston.feature_names"
      ],
      "execution_count": 4,
      "outputs": [
        {
          "output_type": "execute_result",
          "data": {
            "text/plain": [
              "array(['CRIM', 'ZN', 'INDUS', 'CHAS', 'NOX', 'RM', 'AGE', 'DIS', 'RAD',\n",
              "       'TAX', 'PTRATIO', 'B', 'LSTAT'], dtype='<U7')"
            ]
          },
          "metadata": {
            "tags": []
          },
          "execution_count": 4
        }
      ]
    },
    {
      "cell_type": "code",
      "metadata": {
        "id": "6p5RqSxIMYCJ",
        "colab_type": "code",
        "colab": {}
      },
      "source": [
        "import statsmodels.api as sm"
      ],
      "execution_count": 0,
      "outputs": []
    },
    {
      "cell_type": "code",
      "metadata": {
        "id": "0pcNJRbHNVYR",
        "colab_type": "code",
        "colab": {
          "base_uri": "https://localhost:8080/",
          "height": 34
        },
        "outputId": "0f0facd2-2d7e-4d84-cdce-ffea6a9df4bb"
      },
      "source": [
        "X.shape,Y.shape"
      ],
      "execution_count": 11,
      "outputs": [
        {
          "output_type": "execute_result",
          "data": {
            "text/plain": [
              "((506, 13), (506,))"
            ]
          },
          "metadata": {
            "tags": []
          },
          "execution_count": 11
        }
      ]
    },
    {
      "cell_type": "code",
      "metadata": {
        "id": "1kPvlrg1MjfJ",
        "colab_type": "code",
        "colab": {}
      },
      "source": [
        "res = sm.OLS(Y,X).fit()"
      ],
      "execution_count": 0,
      "outputs": []
    },
    {
      "cell_type": "code",
      "metadata": {
        "id": "9ugkvYqYM2op",
        "colab_type": "code",
        "colab": {
          "base_uri": "https://localhost:8080/",
          "height": 709
        },
        "outputId": "1f6ae727-c7c5-420f-cb2e-596140d781ca"
      },
      "source": [
        "res.summary()"
      ],
      "execution_count": 17,
      "outputs": [
        {
          "output_type": "execute_result",
          "data": {
            "text/html": [
              "<table class=\"simpletable\">\n",
              "<caption>OLS Regression Results</caption>\n",
              "<tr>\n",
              "  <th>Dep. Variable:</th>            <td>y</td>        <th>  R-squared (uncentered):</th>      <td>   0.959</td>\n",
              "</tr>\n",
              "<tr>\n",
              "  <th>Model:</th>                   <td>OLS</td>       <th>  Adj. R-squared (uncentered):</th> <td>   0.958</td>\n",
              "</tr>\n",
              "<tr>\n",
              "  <th>Method:</th>             <td>Least Squares</td>  <th>  F-statistic:       </th>          <td>   891.3</td>\n",
              "</tr>\n",
              "<tr>\n",
              "  <th>Date:</th>             <td>Sun, 08 Sep 2019</td> <th>  Prob (F-statistic):</th>           <td>  0.00</td> \n",
              "</tr>\n",
              "<tr>\n",
              "  <th>Time:</th>                 <td>09:32:32</td>     <th>  Log-Likelihood:    </th>          <td> -1523.8</td>\n",
              "</tr>\n",
              "<tr>\n",
              "  <th>No. Observations:</th>      <td>   506</td>      <th>  AIC:               </th>          <td>   3074.</td>\n",
              "</tr>\n",
              "<tr>\n",
              "  <th>Df Residuals:</th>          <td>   493</td>      <th>  BIC:               </th>          <td>   3128.</td>\n",
              "</tr>\n",
              "<tr>\n",
              "  <th>Df Model:</th>              <td>    13</td>      <th>                     </th>              <td> </td>   \n",
              "</tr>\n",
              "<tr>\n",
              "  <th>Covariance Type:</th>      <td>nonrobust</td>    <th>                     </th>              <td> </td>   \n",
              "</tr>\n",
              "</table>\n",
              "<table class=\"simpletable\">\n",
              "<tr>\n",
              "   <td></td>      <th>coef</th>     <th>std err</th>      <th>t</th>      <th>P>|t|</th>  <th>[0.025</th>    <th>0.975]</th>  \n",
              "</tr>\n",
              "<tr>\n",
              "  <th>x1</th>  <td>   -0.0929</td> <td>    0.034</td> <td>   -2.699</td> <td> 0.007</td> <td>   -0.161</td> <td>   -0.025</td>\n",
              "</tr>\n",
              "<tr>\n",
              "  <th>x2</th>  <td>    0.0487</td> <td>    0.014</td> <td>    3.382</td> <td> 0.001</td> <td>    0.020</td> <td>    0.077</td>\n",
              "</tr>\n",
              "<tr>\n",
              "  <th>x3</th>  <td>   -0.0041</td> <td>    0.064</td> <td>   -0.063</td> <td> 0.950</td> <td>   -0.131</td> <td>    0.123</td>\n",
              "</tr>\n",
              "<tr>\n",
              "  <th>x4</th>  <td>    2.8540</td> <td>    0.904</td> <td>    3.157</td> <td> 0.002</td> <td>    1.078</td> <td>    4.630</td>\n",
              "</tr>\n",
              "<tr>\n",
              "  <th>x5</th>  <td>   -2.8684</td> <td>    3.359</td> <td>   -0.854</td> <td> 0.394</td> <td>   -9.468</td> <td>    3.731</td>\n",
              "</tr>\n",
              "<tr>\n",
              "  <th>x6</th>  <td>    5.9281</td> <td>    0.309</td> <td>   19.178</td> <td> 0.000</td> <td>    5.321</td> <td>    6.535</td>\n",
              "</tr>\n",
              "<tr>\n",
              "  <th>x7</th>  <td>   -0.0073</td> <td>    0.014</td> <td>   -0.526</td> <td> 0.599</td> <td>   -0.034</td> <td>    0.020</td>\n",
              "</tr>\n",
              "<tr>\n",
              "  <th>x8</th>  <td>   -0.9685</td> <td>    0.196</td> <td>   -4.951</td> <td> 0.000</td> <td>   -1.353</td> <td>   -0.584</td>\n",
              "</tr>\n",
              "<tr>\n",
              "  <th>x9</th>  <td>    0.1712</td> <td>    0.067</td> <td>    2.564</td> <td> 0.011</td> <td>    0.040</td> <td>    0.302</td>\n",
              "</tr>\n",
              "<tr>\n",
              "  <th>x10</th> <td>   -0.0094</td> <td>    0.004</td> <td>   -2.395</td> <td> 0.017</td> <td>   -0.017</td> <td>   -0.002</td>\n",
              "</tr>\n",
              "<tr>\n",
              "  <th>x11</th> <td>   -0.3922</td> <td>    0.110</td> <td>   -3.570</td> <td> 0.000</td> <td>   -0.608</td> <td>   -0.176</td>\n",
              "</tr>\n",
              "<tr>\n",
              "  <th>x12</th> <td>    0.0149</td> <td>    0.003</td> <td>    5.528</td> <td> 0.000</td> <td>    0.010</td> <td>    0.020</td>\n",
              "</tr>\n",
              "<tr>\n",
              "  <th>x13</th> <td>   -0.4163</td> <td>    0.051</td> <td>   -8.197</td> <td> 0.000</td> <td>   -0.516</td> <td>   -0.317</td>\n",
              "</tr>\n",
              "</table>\n",
              "<table class=\"simpletable\">\n",
              "<tr>\n",
              "  <th>Omnibus:</th>       <td>204.082</td> <th>  Durbin-Watson:     </th> <td>   0.999</td> \n",
              "</tr>\n",
              "<tr>\n",
              "  <th>Prob(Omnibus):</th> <td> 0.000</td>  <th>  Jarque-Bera (JB):  </th> <td>1374.225</td> \n",
              "</tr>\n",
              "<tr>\n",
              "  <th>Skew:</th>          <td> 1.609</td>  <th>  Prob(JB):          </th> <td>3.90e-299</td>\n",
              "</tr>\n",
              "<tr>\n",
              "  <th>Kurtosis:</th>      <td>10.404</td>  <th>  Cond. No.          </th> <td>8.50e+03</td> \n",
              "</tr>\n",
              "</table><br/><br/>Warnings:<br/>[1] Standard Errors assume that the covariance matrix of the errors is correctly specified.<br/>[2] The condition number is large, 8.5e+03. This might indicate that there are<br/>strong multicollinearity or other numerical problems."
            ],
            "text/plain": [
              "<class 'statsmodels.iolib.summary.Summary'>\n",
              "\"\"\"\n",
              "                                 OLS Regression Results                                \n",
              "=======================================================================================\n",
              "Dep. Variable:                      y   R-squared (uncentered):                   0.959\n",
              "Model:                            OLS   Adj. R-squared (uncentered):              0.958\n",
              "Method:                 Least Squares   F-statistic:                              891.3\n",
              "Date:                Sun, 08 Sep 2019   Prob (F-statistic):                        0.00\n",
              "Time:                        09:32:32   Log-Likelihood:                         -1523.8\n",
              "No. Observations:                 506   AIC:                                      3074.\n",
              "Df Residuals:                     493   BIC:                                      3128.\n",
              "Df Model:                          13                                                  \n",
              "Covariance Type:            nonrobust                                                  \n",
              "==============================================================================\n",
              "                 coef    std err          t      P>|t|      [0.025      0.975]\n",
              "------------------------------------------------------------------------------\n",
              "x1            -0.0929      0.034     -2.699      0.007      -0.161      -0.025\n",
              "x2             0.0487      0.014      3.382      0.001       0.020       0.077\n",
              "x3            -0.0041      0.064     -0.063      0.950      -0.131       0.123\n",
              "x4             2.8540      0.904      3.157      0.002       1.078       4.630\n",
              "x5            -2.8684      3.359     -0.854      0.394      -9.468       3.731\n",
              "x6             5.9281      0.309     19.178      0.000       5.321       6.535\n",
              "x7            -0.0073      0.014     -0.526      0.599      -0.034       0.020\n",
              "x8            -0.9685      0.196     -4.951      0.000      -1.353      -0.584\n",
              "x9             0.1712      0.067      2.564      0.011       0.040       0.302\n",
              "x10           -0.0094      0.004     -2.395      0.017      -0.017      -0.002\n",
              "x11           -0.3922      0.110     -3.570      0.000      -0.608      -0.176\n",
              "x12            0.0149      0.003      5.528      0.000       0.010       0.020\n",
              "x13           -0.4163      0.051     -8.197      0.000      -0.516      -0.317\n",
              "==============================================================================\n",
              "Omnibus:                      204.082   Durbin-Watson:                   0.999\n",
              "Prob(Omnibus):                  0.000   Jarque-Bera (JB):             1374.225\n",
              "Skew:                           1.609   Prob(JB):                    3.90e-299\n",
              "Kurtosis:                      10.404   Cond. No.                     8.50e+03\n",
              "==============================================================================\n",
              "\n",
              "Warnings:\n",
              "[1] Standard Errors assume that the covariance matrix of the errors is correctly specified.\n",
              "[2] The condition number is large, 8.5e+03. This might indicate that there are\n",
              "strong multicollinearity or other numerical problems.\n",
              "\"\"\""
            ]
          },
          "metadata": {
            "tags": []
          },
          "execution_count": 17
        }
      ]
    },
    {
      "cell_type": "code",
      "metadata": {
        "id": "bJVdYzDnM9I4",
        "colab_type": "code",
        "colab": {}
      },
      "source": [
        "sm.OLS?"
      ],
      "execution_count": 0,
      "outputs": []
    },
    {
      "cell_type": "code",
      "metadata": {
        "id": "42pSezR-N3TH",
        "colab_type": "code",
        "colab": {}
      },
      "source": [
        ""
      ],
      "execution_count": 0,
      "outputs": []
    }
  ]
}