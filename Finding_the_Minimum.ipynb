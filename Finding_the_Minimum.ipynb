{
  "nbformat": 4,
  "nbformat_minor": 0,
  "metadata": {
    "colab": {
      "name": "Finding the Minimum.ipynb",
      "provenance": [],
      "collapsed_sections": [],
      "include_colab_link": true
    },
    "kernelspec": {
      "name": "python3",
      "display_name": "Python 3"
    }
  },
  "cells": [
    {
      "cell_type": "markdown",
      "metadata": {
        "id": "view-in-github",
        "colab_type": "text"
      },
      "source": [
        "<a href=\"https://colab.research.google.com/github/HarshaVardhanBabu/TutorialMaterial/blob/master/Finding_the_Minimum.ipynb\" target=\"_parent\"><img src=\"https://colab.research.google.com/assets/colab-badge.svg\" alt=\"Open In Colab\"/></a>"
      ]
    },
    {
      "cell_type": "code",
      "metadata": {
        "id": "Ysr2DZPYZl7P",
        "colab_type": "code",
        "colab": {}
      },
      "source": [
        "import numpy as np\n",
        "from matplotlib import pyplot as plt\n",
        "% matplotlib inline"
      ],
      "execution_count": 0,
      "outputs": []
    },
    {
      "cell_type": "code",
      "metadata": {
        "id": "mB205NURZrUY",
        "colab_type": "code",
        "colab": {}
      },
      "source": [
        "def f(x):\n",
        "  return x*x\n",
        "def df(x):\n",
        "  return 2*x"
      ],
      "execution_count": 0,
      "outputs": []
    },
    {
      "cell_type": "code",
      "metadata": {
        "id": "O6x2WwBtZuGm",
        "colab_type": "code",
        "colab": {}
      },
      "source": [
        "x = []\n",
        "xold = 10\n",
        "x.append(xold)\n",
        "# Lets do ten iterations\n",
        "for i in range(100):\n",
        "  xnew = xold - 0.95*df(xold)\n",
        "  x.append(xnew)\n",
        "  # print(i,xnew)\n",
        "  xold = xnew"
      ],
      "execution_count": 0,
      "outputs": []
    },
    {
      "cell_type": "code",
      "metadata": {
        "id": "AIFluXg2aMO2",
        "colab_type": "code",
        "colab": {}
      },
      "source": [
        "fig,ax = plt.subplots(1,1)\n",
        "xi = np.linspace(-10,10)\n",
        "yi = f(xi)\n",
        "ax.plot(xi,yi,'-')\n",
        "ax.plot(x,f(np.array(x)),'-')"
      ],
      "execution_count": 0,
      "outputs": []
    },
    {
      "cell_type": "code",
      "metadata": {
        "id": "yLPQ3dVzbk9b",
        "colab_type": "code",
        "colab": {}
      },
      "source": [
        "def f2(x,a,b):\n",
        "  return a*x + b"
      ],
      "execution_count": 0,
      "outputs": []
    },
    {
      "cell_type": "code",
      "metadata": {
        "id": "2IY7-umXcO_b",
        "colab_type": "code",
        "colab": {}
      },
      "source": [
        "x = np.linspace(-50,50,100)"
      ],
      "execution_count": 0,
      "outputs": []
    },
    {
      "cell_type": "code",
      "metadata": {
        "id": "C6-tt4RRcUu4",
        "colab_type": "code",
        "colab": {}
      },
      "source": [
        "np.random.seed(42)\n",
        "y = f2(x,2,4) + np.random.randn(100)"
      ],
      "execution_count": 0,
      "outputs": []
    },
    {
      "cell_type": "code",
      "metadata": {
        "id": "IpKtFnSfcc1a",
        "colab_type": "code",
        "colab": {}
      },
      "source": [
        "plt.plot(x,y,'*')"
      ],
      "execution_count": 0,
      "outputs": []
    },
    {
      "cell_type": "code",
      "metadata": {
        "id": "w_rIm8J6cfNp",
        "colab_type": "code",
        "colab": {}
      },
      "source": [
        "def cost(x,yt,a,b):\n",
        "  yp = f2(x,a,b)\n",
        "  n = len(x)\n",
        "  mean_avg_error = ((1/2*n)*(yt-yp)**2).sum()\n",
        "  return mean_avg_error"
      ],
      "execution_count": 0,
      "outputs": []
    },
    {
      "cell_type": "code",
      "metadata": {
        "id": "z2gW4gdzdnwZ",
        "colab_type": "code",
        "colab": {}
      },
      "source": [
        "def dcost(x,yt,a,b):\n",
        "  n = len(x)\n",
        "  yp = f2(x,a,b)\n",
        "  dcostda = ((1/n)*(-yt+yp)*x).sum()\n",
        "  dcostdb = ((1/n)*(-yt+yp)).sum()\n",
        "  return dcostda,dcostdb"
      ],
      "execution_count": 0,
      "outputs": []
    },
    {
      "cell_type": "code",
      "metadata": {
        "id": "1Z-WykMbdrrL",
        "colab_type": "code",
        "colab": {}
      },
      "source": [
        "# First plot the cost function for a range of a and b\n",
        "a = np.linspace(0,3,50)\n",
        "b = np.linspace(-50,50,50)"
      ],
      "execution_count": 0,
      "outputs": []
    },
    {
      "cell_type": "code",
      "metadata": {
        "id": "WA_wqeWYe4xd",
        "colab_type": "code",
        "colab": {}
      },
      "source": [
        "aa,bb = np.meshgrid(a,b)"
      ],
      "execution_count": 0,
      "outputs": []
    },
    {
      "cell_type": "code",
      "metadata": {
        "id": "ACyFSiM4fJP9",
        "colab_type": "code",
        "colab": {}
      },
      "source": [
        "aa.shape,bb.shape"
      ],
      "execution_count": 0,
      "outputs": []
    },
    {
      "cell_type": "code",
      "metadata": {
        "id": "lFaPawHvfV8s",
        "colab_type": "code",
        "colab": {}
      },
      "source": [
        "cost_values = np.zeros((50,50))"
      ],
      "execution_count": 0,
      "outputs": []
    },
    {
      "cell_type": "code",
      "metadata": {
        "id": "wX1hApdZfkEO",
        "colab_type": "code",
        "colab": {}
      },
      "source": [
        "for (i,j),value in np.ndenumerate(cost_values):\n",
        "  cost_values[i,j] = cost(x,y,aa[i,j],bb[i,j])\n"
      ],
      "execution_count": 0,
      "outputs": []
    },
    {
      "cell_type": "code",
      "metadata": {
        "id": "RpCy1PElh2WT",
        "colab_type": "code",
        "colab": {}
      },
      "source": [
        "a0 = 0.0\n",
        "b0 = -1.0"
      ],
      "execution_count": 0,
      "outputs": []
    },
    {
      "cell_type": "code",
      "metadata": {
        "id": "POCZeK1AiBiL",
        "colab_type": "code",
        "colab": {}
      },
      "source": [
        "a_s = [a0]\n",
        "b_s = [b0]\n",
        "cost_s = [cost(x,y,a0,b0)]\n",
        "for i in range(1,101):\n",
        "  dcosta,dcostb = dcost(x,y,a_s[i-1],b_s[i-1])\n",
        "  new_a = a_s[i-1] - 1e-3*dcosta\n",
        "  new_b = b_s[i-1] - 1e-3*dcostb\n",
        "  cost_s.append(cost(x,y,new_a,new_b))\n",
        "  a_s.append(new_a)\n",
        "  b_s.append(new_b)\n"
      ],
      "execution_count": 0,
      "outputs": []
    },
    {
      "cell_type": "code",
      "metadata": {
        "id": "4otyPwgFgZD7",
        "colab_type": "code",
        "colab": {}
      },
      "source": [
        "a_s"
      ],
      "execution_count": 0,
      "outputs": []
    },
    {
      "cell_type": "code",
      "metadata": {
        "id": "fdZfihbpgyMr",
        "colab_type": "code",
        "colab": {}
      },
      "source": [
        "b_s"
      ],
      "execution_count": 0,
      "outputs": []
    },
    {
      "cell_type": "code",
      "metadata": {
        "id": "3L-FJZGaf_Wb",
        "colab_type": "code",
        "colab": {}
      },
      "source": [
        "fig,ax = plt.subplots(1,1)\n",
        "ax.contour(aa,bb,cost_values)\n",
        "ax.plot(np.array(a_s),np.array(b_s),\"*-\")"
      ],
      "execution_count": 0,
      "outputs": []
    },
    {
      "cell_type": "code",
      "metadata": {
        "id": "TSjX4Sg1i5fN",
        "colab_type": "code",
        "colab": {}
      },
      "source": [
        "plt.plot(cost_s)"
      ],
      "execution_count": 0,
      "outputs": []
    },
    {
      "cell_type": "code",
      "metadata": {
        "id": "1z3qj3qckqkv",
        "colab_type": "code",
        "colab": {}
      },
      "source": [
        ""
      ],
      "execution_count": 0,
      "outputs": []
    }
  ]
}